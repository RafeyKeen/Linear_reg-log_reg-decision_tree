{
  "nbformat": 4,
  "nbformat_minor": 0,
  "metadata": {
    "colab": {
      "provenance": []
    },
    "kernelspec": {
      "name": "python3",
      "display_name": "Python 3"
    },
    "language_info": {
      "name": "python"
    }
  },
  "cells": [
    {
      "cell_type": "code",
      "execution_count": 4,
      "metadata": {
        "colab": {
          "base_uri": "https://localhost:8080/"
        },
        "id": "4IsK5fQ10Yif",
        "outputId": "caa2dc1a-627e-4446-9355-f47fb9e86354"
      },
      "outputs": [
        {
          "output_type": "stream",
          "name": "stderr",
          "text": [
            "[nltk_data] Downloading package stopwords to /root/nltk_data...\n",
            "[nltk_data]   Package stopwords is already up-to-date!\n",
            "[nltk_data] Downloading package wordnet to /root/nltk_data...\n",
            "[nltk_data]   Package wordnet is already up-to-date!\n"
          ]
        }
      ],
      "source": [
        "import pandas as pd\n",
        "import matplotlib.pyplot as plt\n",
        "import seaborn as sns\n",
        "from sklearn.model_selection import train_test_split\n",
        "from sklearn.feature_extraction.text import TfidfVectorizer\n",
        "from sklearn.tree import DecisionTreeClassifier\n",
        "from sklearn.metrics import classification_report, accuracy_score, confusion_matrix  # Ensure confusion_matrix is imported\n",
        "from nltk.corpus import stopwords\n",
        "from nltk.stem import WordNetLemmatizer\n",
        "import nltk\n",
        "import string\n",
        "\n",
        "\n",
        "nltk.download('stopwords')\n",
        "nltk.download('wordnet')\n",
        "\n",
        "\n",
        "sns.set(style=\"whitegrid\")\n"
      ]
    },
    {
      "cell_type": "code",
      "source": [
        "\n",
        "df = pd.read_csv('Email_Classification.csv')\n",
        "\n",
        "print(\"Initial Dataset:\")\n",
        "print(df.head())\n",
        "\n",
        "\n",
        "print(\"\\nDataset Information:\") # will provide info for the data set\n",
        "print(df.info())\n",
        "\n",
        "\n"
      ],
      "metadata": {
        "colab": {
          "base_uri": "https://localhost:8080/"
        },
        "id": "vpnbma6e0c7h",
        "outputId": "8132255d-c3a0-4549-ec33-3829169f25d6"
      },
      "execution_count": 5,
      "outputs": [
        {
          "output_type": "stream",
          "name": "stdout",
          "text": [
            "Initial Dataset:\n",
            "                                              Emails  label\n",
            "0   date wed NUMBER aug NUMBER NUMBER NUMBER NUMB...    0.0\n",
            "1  martin a posted tassos papadopoulos the greek ...    0.0\n",
            "2  man threatens explosion in moscow thursday aug...    0.0\n",
            "3  klez the virus that won t die already the most...    0.0\n",
            "4   in adding cream to spaghetti carbonara which ...    0.0\n",
            "\n",
            "Dataset Information:\n",
            "<class 'pandas.core.frame.DataFrame'>\n",
            "RangeIndex: 3048 entries, 0 to 3047\n",
            "Data columns (total 2 columns):\n",
            " #   Column  Non-Null Count  Dtype  \n",
            "---  ------  --------------  -----  \n",
            " 0   Emails  3015 non-null   object \n",
            " 1   label   3000 non-null   float64\n",
            "dtypes: float64(1), object(1)\n",
            "memory usage: 47.8+ KB\n",
            "None\n"
          ]
        }
      ]
    },
    {
      "cell_type": "code",
      "source": [
        "\n",
        "df = df.dropna(subset=['Emails', 'label'])# dropping rows where misssing values are present\n",
        "\n",
        "print(\"\\nNumber of rows after dropping missing values:\")\n",
        "print(df.shape[0])\n"
      ],
      "metadata": {
        "colab": {
          "base_uri": "https://localhost:8080/"
        },
        "id": "xxiHiCau0mLr",
        "outputId": "e00ab110-ccbf-43c6-ed5f-e48cef317645"
      },
      "execution_count": 6,
      "outputs": [
        {
          "output_type": "stream",
          "name": "stdout",
          "text": [
            "\n",
            "Number of rows after dropping missing values:\n",
            "2999\n"
          ]
        }
      ]
    },
    {
      "cell_type": "code",
      "source": [
        "############# text pre processing\n",
        "def preprocess_text(text):\n",
        "    if pd.isna(text):  # Checking for missing values if any\n",
        "        return ''\n",
        "    if not isinstance(text, str):  # Checking non string\n",
        "        return ''\n",
        "    text = text.lower()  # Convert to lowercase (so that the whole text is under one precise stype)\n",
        "    text = text.translate(str.maketrans('', '', string.punctuation))  # Removing punctuation\n",
        "    stop_words = set(stopwords.words('english'))\n",
        "    text = ' '.join(word for word in text.split() if word not in stop_words)  # Remove stop words\n",
        "    lemmatizer = WordNetLemmatizer()\n",
        "    text = ' '.join(lemmatizer.lemmatize(word) for word in text.split())  # Lemmatization process\n",
        "    return text\n",
        "\n",
        "\n",
        "df['Processed_Emails'] = df['Emails'].apply(preprocess_text) #applying the preprocessing function to\n",
        "\n",
        "\n",
        "print(\"\\nDataset After Preprocessing:\")\n",
        "print(df[['Emails', 'Processed_Emails']].head())\n",
        "\n",
        "\n",
        "df['Email_Length'] = df['Processed_Emails'].apply(len)\n",
        "\n",
        "plt.figure(figsize=(10, 6))\n",
        "sns.histplot(df['Email_Length'], bins=30, kde=True, color='blue')\n",
        "plt.title('Distribution of Email Lengths After Preprocessing')\n",
        "plt.xlabel('Email Length')\n",
        "plt.ylabel('Frequency')\n",
        "plt.show()\n"
      ],
      "metadata": {
        "colab": {
          "base_uri": "https://localhost:8080/",
          "height": 825
        },
        "id": "F1PhMXkB1dbs",
        "outputId": "6827c104-fc1e-4af5-93d1-3e83ffc02d22"
      },
      "execution_count": 7,
      "outputs": [
        {
          "output_type": "stream",
          "name": "stdout",
          "text": [
            "\n",
            "Dataset After Preprocessing:\n",
            "                                              Emails  \\\n",
            "0   date wed NUMBER aug NUMBER NUMBER NUMBER NUMB...   \n",
            "1  martin a posted tassos papadopoulos the greek ...   \n",
            "2  man threatens explosion in moscow thursday aug...   \n",
            "3  klez the virus that won t die already the most...   \n",
            "4   in adding cream to spaghetti carbonara which ...   \n",
            "\n",
            "                                    Processed_Emails  \n",
            "0  date wed number aug number number number numbe...  \n",
            "1  martin posted tasso papadopoulos greek sculpto...  \n",
            "2  man threatens explosion moscow thursday august...  \n",
            "3  klez virus die already prolific virus ever kle...  \n",
            "4  adding cream spaghetti carbonara effect pasta ...  \n"
          ]
        },
        {
          "output_type": "display_data",
          "data": {
            "text/plain": [
              "<Figure size 1000x600 with 1 Axes>"
            ],
            "image/png": "[encoded data removed]"
          },
          "metadata": {}
        }
      ]
    },
    {
      "cell_type": "code",
      "source": [
        "\n",
        "X = df['Processed_Emails']\n",
        "y = df['label']\n",
        "\n",
        "vectorizer = TfidfVectorizer()\n",
        "X_vectorized = vectorizer.fit_transform(X)\n",
        "\n",
        "print(\"\\nShape of Vectorized Data:\")\n",
        "print(X_vectorized.shape)\n"
      ],
      "metadata": {
        "colab": {
          "base_uri": "https://localhost:8080/"
        },
        "id": "VT_yrYWW2Lmd",
        "outputId": "77cc1532-7011-41b1-e959-571befd8b4bd"
      },
      "execution_count": 8,
      "outputs": [
        {
          "output_type": "stream",
          "name": "stdout",
          "text": [
            "\n",
            "Shape of Vectorized Data:\n",
            "(2999, 25958)\n"
          ]
        }
      ]
    },
    {
      "cell_type": "code",
      "source": [
        "############################ Spliting the data into training and testing sets############################\n",
        "X_train, X_test, y_train, y_test = train_test_split(X_vectorized, y, test_size=0.3, random_state=42)\n",
        "\n",
        "\n",
        "print(\"\\nChecking for NaN values in y_train and y_test:\")# Check for NaN values in y_train and y_test\n",
        "print(f\"NaN values in y_train: {y_train.isna().sum()}\")\n",
        "print(f\"NaN values in y_test: {y_test.isna().sum()}\")\n",
        "\n",
        "\n",
        "print(\"\\nShape of Training Data:\")\n",
        "print(X_train.shape)\n",
        "print(\"\\nShape of Testing Data:\")\n",
        "print(X_test.shape)\n",
        "\n"
      ],
      "metadata": {
        "colab": {
          "base_uri": "https://localhost:8080/"
        },
        "id": "m06QjJiw2Ovg",
        "outputId": "76252a67-116a-439c-9693-e404ea3a0df4"
      },
      "execution_count": 9,
      "outputs": [
        {
          "output_type": "stream",
          "name": "stdout",
          "text": [
            "\n",
            "Checking for NaN values in y_train and y_test:\n",
            "NaN values in y_train: 0\n",
            "NaN values in y_test: 0\n",
            "\n",
            "Shape of Training Data:\n",
            "(2099, 25958)\n",
            "\n",
            "Shape of Testing Data:\n",
            "(900, 25958)\n"
          ]
        }
      ]
    },
    {
      "cell_type": "code",
      "source": [
        "\n",
        "clf = DecisionTreeClassifier()\n",
        "clf.fit(X_train, y_train)\n",
        "\n",
        "print(\"\\nModel Training Complete.\")\n"
      ],
      "metadata": {
        "colab": {
          "base_uri": "https://localhost:8080/"
        },
        "id": "YTmVsr1L2S1C",
        "outputId": "2fb53a0b-852a-4d0e-ea24-ac4d471cf8c3"
      },
      "execution_count": 10,
      "outputs": [
        {
          "output_type": "stream",
          "name": "stdout",
          "text": [
            "\n",
            "Model Training Complete.\n"
          ]
        }
      ]
    },
    {
      "cell_type": "code",
      "source": [
        "################################ Making predictions\n",
        "y_pred = clf.predict(X_test)\n",
        "\n",
        "\n",
        "print(\"\\nClassification Report:\")\n",
        "print(classification_report(y_test, y_pred))\n",
        "print(\"\\nAccuracy Score:\", accuracy_score(y_test, y_pred))\n",
        "\n",
        "############################### Confusion Matrix\n",
        "cm = confusion_matrix(y_test, y_pred)\n",
        "\n",
        "plt.figure(figsize=(6, 4))\n",
        "sns.heatmap(cm, annot=True, fmt='d', cmap='Blues', cbar=False)\n",
        "plt.title('Confusion Matrix')\n",
        "plt.xlabel('Predicted Label')\n",
        "plt.ylabel('True Label')\n",
        "plt.show()\n"
      ],
      "metadata": {
        "colab": {
          "base_uri": "https://localhost:8080/",
          "height": 645
        },
        "id": "E7RMWYLk3yNw",
        "outputId": "15d123b1-d05a-4111-a974-a50ccff1b8ab"
      },
      "execution_count": 45,
      "outputs": [
        {
          "output_type": "stream",
          "name": "stdout",
          "text": [
            "\n",
            "Classification Report:\n",
            "              precision    recall  f1-score   support\n",
            "\n",
            "         0.0       0.97      0.97      0.97       741\n",
            "         1.0       0.86      0.88      0.87       159\n",
            "\n",
            "    accuracy                           0.95       900\n",
            "   macro avg       0.92      0.92      0.92       900\n",
            "weighted avg       0.95      0.95      0.95       900\n",
            "\n",
            "\n",
            "Accuracy Score: 0.9533333333333334\n"
          ]
        },
        {
          "output_type": "display_data",
          "data": {
            "text/plain": [
              "<Figure size 600x400 with 1 Axes>"
            ],
            "image/png": "[encoded data removed]"
          },
          "metadata": {}
        }
      ]
    },
    {
      "cell_type": "code",
      "source": [],
      "metadata": {
        "id": "sYV-XRzw3029"
      },
      "execution_count": 45,
      "outputs": []
    },
    {
      "cell_type": "code",
      "source": [],
      "metadata": {
        "id": "I1oybSk94hOn"
      },
      "execution_count": null,
      "outputs": []
    }
  ]
}